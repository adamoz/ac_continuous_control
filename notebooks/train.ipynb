{
 "cells": [
  {
   "cell_type": "markdown",
   "metadata": {},
   "source": [
    "# Training of Reacher\n",
    "---\n",
    "\n",
    "To understand environment and training algorithm follow readme instructions please."
   ]
  },
  {
   "cell_type": "code",
   "execution_count": 1,
   "metadata": {},
   "outputs": [],
   "source": [
    "%load_ext autoreload\n",
    "%autoreload 2\n",
    "%matplotlib inline"
   ]
  },
  {
   "cell_type": "code",
   "execution_count": 2,
   "metadata": {},
   "outputs": [],
   "source": [
    "import logging\n",
    "logging.basicConfig(level=logging.INFO)\n",
    "logger = logging.getLogger()\n",
    "logger.setLevel(logging.DEBUG)"
   ]
  },
  {
   "cell_type": "code",
   "execution_count": 3,
   "metadata": {},
   "outputs": [],
   "source": [
    "import torch\n",
    "from ac_continuous_control.environment import UnityEnvironmentWrapper\n",
    "from ac_continuous_control.replay_buffer import ReplayBuffer\n",
    "from ac_continuous_control.agent import Agent\n",
    "from ac_continuous_control.training import ac_training\n",
    "import matplotlib.pylab as plt"
   ]
  },
  {
   "cell_type": "code",
   "execution_count": 4,
   "metadata": {},
   "outputs": [
    {
     "data": {
      "text/plain": [
       "device(type='cuda')"
      ]
     },
     "execution_count": 4,
     "metadata": {},
     "output_type": "execute_result"
    }
   ],
   "source": [
    "device = torch.device('cuda' if torch.cuda.is_available() else 'cpu')\n",
    "device"
   ]
  },
  {
   "cell_type": "code",
   "execution_count": 12,
   "metadata": {},
   "outputs": [
    {
     "name": "stderr",
     "output_type": "stream",
     "text": [
      "DEBUG:unityagents:The true file name is Reacher\n",
      "DEBUG:unityagents:This is the launch string /home/adam/code/ac_continuous_control/notebooks/../bin/reacher_multi/Reacher.x86_64\n",
      "INFO:unityagents:\n",
      "'Academy' started successfully!\n",
      "Unity Academy name: Academy\n",
      "        Number of Brains: 1\n",
      "        Number of External Brains : 1\n",
      "        Lesson number : 0\n",
      "        Reset Parameters :\n",
      "\t\tgoal_size -> 5.0\n",
      "\t\tgoal_speed -> 1.0\n",
      "Unity brain name: ReacherBrain\n",
      "        Number of Visual Observations (per agent): 0\n",
      "        Vector Observation space type: continuous\n",
      "        Vector Observation space size (per agent): 33\n",
      "        Number of stacked Vector Observation: 1\n",
      "        Vector Action space type: continuous\n",
      "        Vector Action space size (per agent): 4\n",
      "        Vector Action descriptions: , , , \n"
     ]
    }
   ],
   "source": [
    "# Here you can initialize agent and environment\n",
    "env = UnityEnvironmentWrapper(env_binary='../bin/reacher_multi/Reacher.x86_64', train_mode=True)\n",
    "agent = Agent(state_size=env.state_size, action_size=env.action_size, num_agents=env.num_agents, device='cuda')"
   ]
  },
  {
   "cell_type": "code",
   "execution_count": 13,
   "metadata": {
    "scrolled": true
   },
   "outputs": [
    {
     "name": "stdout",
     "output_type": "stream",
     "text": [
      "Episode 1\tAverage Score: 0.5669999873265624\tScore 0.5669999873265624\n",
      "Episode 2\tAverage Score: 0.7289999837055803\tScore 0.890999980084598\n",
      "Episode 3\tAverage Score: 0.641166652335475\tScore 0.4654999895952642\n",
      "Episode 4\tAverage Score: 0.5919999867677689\tScore 0.4444999900646508\n",
      "Episode 5\tAverage Score: 0.6248999860323966\tScore 0.7564999830909074\n",
      "Episode 6\tAverage Score: 0.7292499836999924\tScore 1.250999972037971\n",
      "Episode 7\tAverage Score: 0.8072856962414726\tScore 1.2754999714903534\n",
      "Episode 8\tAverage Score: 0.9316874791751615\tScore 1.8024999597109854\n",
      "Episode 9\tAverage Score: 1.0006666443000236\tScore 1.5524999652989209\n",
      "Episode 10\tAverage Score: 1.1016499753762035\tScore 2.010499955061823\n",
      "Episode 11\tAverage Score: 1.1499090652066197\tScore 1.6324999635107815\n",
      "Episode 12\tAverage Score: 1.192999973334372\tScore 1.6669999627396463\n",
      "Episode 13\tAverage Score: 1.242153818389544\tScore 1.831999959051609\n",
      "Episode 14\tAverage Score: 1.3166785419985119\tScore 2.2854999489150942\n",
      "Episode 15\tAverage Score: 1.4340666346127788\tScore 3.0774999312125146\n",
      "Episode 16\tAverage Score: 1.5375624656328\tScore 3.089999930933118\n",
      "Episode 17\tAverage Score: 1.619117610868724\tScore 2.923999934643507\n",
      "Episode 18\tAverage Score: 1.7233055170366747\tScore 3.4944999218918382\n",
      "Episode 19\tAverage Score: 1.9603946930238683\tScore 6.227999860793352\n",
      "Episode 20\tAverage Score: 2.2744499491620807\tScore 8.24149981578812\n",
      "Episode 21\tAverage Score: 2.667404702283619\tScore 10.52649976471439\n",
      "Episode 22\tAverage Score: 3.0479544773274525\tScore 11.039499753247947\n",
      "Episode 23\tAverage Score: 3.4701955746089963\tScore 12.759499714802951\n",
      "Episode 24\tAverage Score: 3.8718540801239825\tScore 13.109999706968665\n",
      "Episode 25\tAverage Score: 4.333499903138727\tScore 15.412999655492603\n",
      "Episode 26\tAverage Score: 4.920749890012667\tScore 19.601999561861156\n",
      "Episode 27\tAverage Score: 5.607407282072085\tScore 23.460499475616963\n",
      "Episode 28\tAverage Score: 6.411624856689014\tScore 28.125499371346088\n",
      "Episode 29\tAverage Score: 7.23382742451825\tScore 30.255499323736878\n",
      "Episode 30\tAverage Score: 7.981899821590631\tScore 29.67599933668971\n",
      "Episode 31\tAverage Score: 8.795096577607815\tScore 33.19099925812334\n",
      "Episode 32\tAverage Score: 9.657984159127226\tScore 36.40749918622896\n",
      "Episode 33\tAverage Score: 10.536393703887182\tScore 38.645499136205764\n",
      "Episode 34\tAverage Score: 11.368808569416732\tScore 38.83849913189188\n",
      "Episode 35\tAverage Score: 12.162399728149174\tScore 39.14449912505224\n",
      "Episode 36\tAverage Score: 12.902166378280768\tScore 38.793999132886526\n",
      "Episode 37\tAverage Score: 13.604067263492961\tScore 38.87249913113192\n",
      "Episode 38\tAverage Score: 14.27809178612293\tScore 39.21699912343174\n",
      "Episode 39\tAverage Score: 14.916076589676623\tScore 39.159499124716966\n",
      "Episode 40\tAverage Score: 15.516737153173889\tScore 38.942499129567295\n",
      "Episode 41\tAverage Score: 16.09424354270464\tScore 39.194499123934655\n",
      "Episode 42\tAverage Score: 16.64891629453438\tScore 39.390499119553716\n",
      "Episode 43\tAverage Score: 17.17726705791862\tScore 39.36799912005663\n",
      "Episode 44\tAverage Score: 17.683510968379082\tScore 39.45199911817908\n",
      "Episode 45\tAverage Score: 18.154344038663226\tScore 38.87099913116545\n",
      "Episode 46\tAverage Score: 18.59518436697393\tScore 38.43299914095551\n",
      "Episode 47\tAverage Score: 19.008967660222837\tScore 38.04299914967269\n",
      "Episode 48\tAverage Score: 19.430624565691687\tScore 39.248499122727665\n",
      "Episode 49\tAverage Score: 19.831815883254972\tScore 39.08899912629276\n",
      "Episode 50\tAverage Score: 20.221209548020735\tScore 39.30149912154302\n",
      "Episode 51\tAverage Score: 20.598528951351696\tScore 39.464499117899685\n",
      "Episode 52\tAverage Score: 20.951211070165467\tScore 38.93799912966788\n",
      "Episode 53\tAverage Score: 21.291659901452793\tScore 38.99499912839383\n",
      "Episode 54\tAverage Score: 21.613018035429906\tScore 38.64499913621694\n",
      "Episode 55\tAverage Score: 21.921926782734012\tScore 38.60299913715571\n",
      "Episode 56\tAverage Score: 22.221445931883398\tScore 38.69499913509935\n",
      "Episode 57\tAverage Score: 22.481306515047493\tScore 37.03349917223677\n",
      "Episode 58\tAverage Score: 22.75643914652635\tScore 38.438999140821394\n",
      "Episode 59\tAverage Score: 23.018601180409412\tScore 38.22399914562702\n",
      "Episode 60\tAverage Score: 23.27247447981965\tScore 38.25099914502353\n",
      "Episode 61\tAverage Score: 23.528343736395605\tScore 38.880499130953105\n",
      "Episode 62\tAverage Score: 23.76186237210678\tScore 38.00649915048852\n",
      "Episode 63\tAverage Score: 23.978777241810327\tScore 37.427499163430184\n",
      "Episode 64\tAverage Score: 24.145569772804446\tScore 34.65349922543392\n",
      "Episode 65\tAverage Score: 24.316007148802566\tScore 35.223999212682244\n",
      "Episode 66\tAverage Score: 24.49591611914026\tScore 36.189999191090465\n",
      "Episode 67\tAverage Score: 24.675312881299583\tScore 36.515499183814974\n",
      "Episode 68\tAverage Score: 24.86299209132763\tScore 37.43749916320667\n",
      "Episode 69\tAverage Score: 25.03170958542521\tScore 36.50449918406084\n",
      "Episode 70\tAverage Score: 25.188620865561862\tScore 36.015499194990845\n",
      "Episode 71\tAverage Score: 25.372041686411787\tScore 38.211499145906416\n",
      "Episode 72\tAverage Score: 25.545784151229437\tScore 37.88149915328249\n",
      "Episode 73\tAverage Score: 25.716478877246686\tScore 38.00649915048852\n",
      "Episode 74\tAverage Score: 25.868614286656264\tScore 36.97449917355552\n",
      "Episode 75\tAverage Score: 26.00762608535091\tScore 36.294499188754706\n",
      "Episode 76\tAverage Score: 26.142874415661208\tScore 36.28649918893352\n",
      "Episode 77\tAverage Score: 26.282629282667315\tScore 36.90399917513132\n",
      "Episode 78\tAverage Score: 26.421781460709205\tScore 37.13649916993454\n",
      "Episode 79\tAverage Score: 26.55686016590158\tScore 37.09299917090684\n",
      "Episode 80\tAverage Score: 26.68834315346903\tScore 37.075499171298\n",
      "Episode 81\tAverage Score: 26.810678413080304\tScore 36.59749918198213\n",
      "Episode 82\tAverage Score: 26.95365793412415\tScore 38.53499913867563\n",
      "Episode 83\tAverage Score: 27.075698189991694\tScore 37.08299917113036\n",
      "Episode 84\tAverage Score: 27.200350582500967\tScore 37.546499160770324\n",
      "Episode 85\tAverage Score: 27.323187624573272\tScore 37.64149915864691\n",
      "Episode 86\tAverage Score: 27.435917991410598\tScore 37.017999172583224\n",
      "Episode 87\tAverage Score: 27.552258004848685\tScore 37.55749916052446\n",
      "Episode 88\tAverage Score: 27.654510745509867\tScore 36.55049918303266\n",
      "Episode 89\tAverage Score: 27.74396567200886\tScore 35.61599920392037\n",
      "Episode 90\tAverage Score: 27.83373271120091\tScore 35.822999199293555\n",
      "Episode 91\tAverage Score: 27.933905969035123\tScore 36.949499174114315\n",
      "Episode 92\tAverage Score: 28.007993939189927\tScore 34.74999922327697\n",
      "Episode 93\tAverage Score: 28.07982732935618\tScore 34.68849922465161\n",
      "Episode 94\tAverage Score: 28.180547242456093\tScore 37.547499160747975\n",
      "Episode 95\tAverage Score: 28.250120421192165\tScore 34.7899992223829\n",
      "Episode 96\tAverage Score: 28.313785825470887\tScore 34.36199923194945\n",
      "Episode 97\tAverage Score: 28.379721015148323\tScore 34.70949922418222\n",
      "Episode 98\tAverage Score: 28.46984630242484\tScore 37.21199916824698\n",
      "Episode 99\tAverage Score: 28.57070138159707\tScore 38.454499140474944\n",
      "Episode 100\tAverage Score: 28.66376435931493\tScore 37.876999153383075\n",
      "Episode 101\tAverage Score: 29.007574351630172\tScore 34.94799921885133\n",
      "Episode 102\tAverage Score: 29.36770934358053\tScore 36.904499175120144\n",
      "Episode 103\tAverage Score: 29.71642933578603\tScore 35.337499210145324\n",
      "Episode 104\tAverage Score: 30.06398432801757\tScore 35.19999921321869\n",
      "Episode 105\tAverage Score: 30.421849320018666\tScore 36.5429991832003\n",
      "Episode 106\tAverage Score: 30.782174311964766\tScore 37.28349916664884\n",
      "Episode 107\tAverage Score: 31.15329930366948\tScore 38.38799914196134\n",
      "Episode 108\tAverage Score: 31.52003429547231\tScore 38.475999139994386\n",
      "Episode 109\tAverage Score: 31.882539287369692\tScore 37.80299915503711\n",
      "Episode 110\tAverage Score: 32.24336427930463\tScore 38.0929991485551\n",
      "Episode 111\tAverage Score: 32.611624271073374\tScore 38.45849914038554\n",
      "Episode 112\tAverage Score: 32.97985426284279\tScore 38.48999913968146\n",
      "Episode 113\tAverage Score: 33.34275425473135\tScore 38.1219991479069\n",
      "Episode 114\tAverage Score: 33.67585424728598\tScore 35.59549920437858\n",
      "Episode 115\tAverage Score: 34.01424923972227\tScore 36.91699917484075\n",
      "Episode 116\tAverage Score: 34.36093423197325\tScore 37.75849915603176\n",
      "Episode 117\tAverage Score: 34.712074224124656\tScore 38.03799914978445\n",
      "Episode 118\tAverage Score: 35.045634216669015\tScore 36.85049917632714\n",
      "Episode 119\tAverage Score: 35.34717920992895\tScore 36.382499186787754\n"
     ]
    },
    {
     "name": "stdout",
     "output_type": "stream",
     "text": [
      "Episode 120\tAverage Score: 35.6343092035111\tScore 36.95449917400256\n",
      "Episode 121\tAverage Score: 35.903114197502845\tScore 37.40699916388839\n",
      "Episode 122\tAverage Score: 36.164354191663676\tScore 37.16349916933105\n",
      "Episode 123\tAverage Score: 36.38435418674629\tScore 34.75949922306463\n",
      "Episode 124\tAverage Score: 36.62477418137249\tScore 37.15199916958809\n",
      "Episode 125\tAverage Score: 36.83937917657569\tScore 36.87349917581305\n",
      "Episode 126\tAverage Score: 37.007414172819814\tScore 36.405499186273666\n",
      "Episode 127\tAverage Score: 37.14817416967358\tScore 37.53649916099384\n",
      "Episode 128\tAverage Score: 37.24908416741807\tScore 38.21649914579466\n",
      "Episode 129\tAverage Score: 37.32674916568212\tScore 38.02199915014207\n",
      "Episode 130\tAverage Score: 37.39773916409538\tScore 36.774999178014696\n",
      "Episode 131\tAverage Score: 37.42312916352786\tScore 35.729999201372266\n",
      "Episode 132\tAverage Score: 37.42381916351244\tScore 36.47649918468669\n",
      "Episode 133\tAverage Score: 37.41091416380089\tScore 37.354999165050685\n",
      "Episode 134\tAverage Score: 37.39485416415986\tScore 37.232499167788774\n",
      "Episode 135\tAverage Score: 37.377714164542965\tScore 37.43049916336313\n",
      "Episode 136\tAverage Score: 37.360524164927185\tScore 37.07499917130917\n",
      "Episode 137\tAverage Score: 37.348354165199204\tScore 37.65549915833399\n",
      "Episode 138\tAverage Score: 37.324784165726044\tScore 36.8599991761148\n",
      "Episode 139\tAverage Score: 37.302514166223816\tScore 36.932499174494296\n",
      "Episode 140\tAverage Score: 37.30269416621979\tScore 38.960499129164965\n",
      "Episode 141\tAverage Score: 37.282459166672076\tScore 37.17099916916341\n",
      "Episode 142\tAverage Score: 37.260909167153756\tScore 37.23549916772172\n",
      "Episode 143\tAverage Score: 37.24964916740544\tScore 38.24199914522469\n",
      "Episode 144\tAverage Score: 37.21670416814182\tScore 36.157499191816896\n",
      "Episode 145\tAverage Score: 37.206769168363884\tScore 37.8774991533719\n",
      "Episode 146\tAverage Score: 37.19865916854516\tScore 37.62199915908277\n",
      "Episode 147\tAverage Score: 37.198999168537554\tScore 38.076999148912726\n",
      "Episode 148\tAverage Score: 37.18292416889686\tScore 37.64099915865809\n",
      "Episode 149\tAverage Score: 37.1587541694371\tScore 36.671999180316924\n",
      "Episode 150\tAverage Score: 37.13896916987933\tScore 37.32299916576594\n",
      "Episode 151\tAverage Score: 37.1019041707078\tScore 35.75799920074642\n",
      "Episode 152\tAverage Score: 37.07999417119752\tScore 36.74699917864054\n",
      "Episode 153\tAverage Score: 37.04937417188194\tScore 35.932999196834864\n",
      "Episode 154\tAverage Score: 37.0302541723093\tScore 36.73299917895347\n",
      "Episode 155\tAverage Score: 37.005424172864295\tScore 36.11999919265509\n",
      "Episode 156\tAverage Score: 36.98093917341158\tScore 36.24649918982759\n",
      "Episode 157\tAverage Score: 36.97925417344924\tScore 36.86499917600304\n",
      "Episode 158\tAverage Score: 36.95096417408158\tScore 35.609999204054475\n",
      "Episode 159\tAverage Score: 36.938549174359075\tScore 36.98249917337671\n",
      "Episode 160\tAverage Score: 36.94084417430777\tScore 38.4804991398938\n",
      "Episode 161\tAverage Score: 36.94254917426966\tScore 39.050999127142134\n",
      "Episode 162\tAverage Score: 36.938954174350016\tScore 37.646999158523975\n",
      "Episode 163\tAverage Score: 36.91725417483505\tScore 35.257499211933464\n",
      "Episode 164\tAverage Score: 36.94638417418395\tScore 37.56649916032329\n",
      "Episode 165\tAverage Score: 36.973194173584695\tScore 37.90499915275723\n",
      "Episode 166\tAverage Score: 36.9951741730934\tScore 38.38799914196134\n",
      "Episode 167\tAverage Score: 37.01116917273588\tScore 38.11499914806336\n",
      "Episode 168\tAverage Score: 37.017419172596185\tScore 38.06249914923683\n",
      "Episode 169\tAverage Score: 37.01376417267788\tScore 36.1389991922304\n",
      "Episode 170\tAverage Score: 37.01651417261642\tScore 36.290499188844116\n",
      "Episode 171\tAverage Score: 36.98425417333748\tScore 34.98549921801314\n",
      "Episode 172\tAverage Score: 36.96931417367142\tScore 36.387499186675996\n",
      "Episode 173\tAverage Score: 36.9758691735249\tScore 38.66199913583696\n",
      "Episode 174\tAverage Score: 36.9880291732531\tScore 38.19049914637581\n",
      "Episode 175\tAverage Score: 37.00645917284116\tScore 38.13749914756045\n",
      "Episode 176\tAverage Score: 37.0251091724243\tScore 38.15149914724752\n",
      "Episode 177\tAverage Score: 37.039599172100424\tScore 38.35299914274365\n",
      "Episode 178\tAverage Score: 37.037919172137975\tScore 36.96849917368964\n",
      "Episode 179\tAverage Score: 37.04985917187109\tScore 38.28699914421886\n",
      "Episode 180\tAverage Score: 37.04570917196386\tScore 36.66049918057397\n",
      "Episode 181\tAverage Score: 37.0493491718825\tScore 36.96149917384609\n",
      "Episode 182\tAverage Score: 37.05161417183187\tScore 38.76149913361296\n",
      "Episode 183\tAverage Score: 37.05837917168066\tScore 37.759499156009404\n",
      "Episode 184\tAverage Score: 37.062994171577515\tScore 38.007999150455\n",
      "Episode 185\tAverage Score: 37.05407917177678\tScore 36.74999917857349\n",
      "Episode 186\tAverage Score: 37.049799171872436\tScore 36.58999918214977\n",
      "Episode 187\tAverage Score: 37.04544417196978\tScore 37.12199917025864\n",
      "Episode 188\tAverage Score: 37.05961417165306\tScore 37.967499151360244\n",
      "Episode 189\tAverage Score: 37.088304171011785\tScore 38.48499913979322\n",
      "Episode 190\tAverage Score: 37.113074170458134\tScore 38.29999914392829\n",
      "Episode 191\tAverage Score: 37.11347917044908\tScore 36.98999917320907\n",
      "Episode 192\tAverage Score: 37.1473191696927\tScore 38.133999147638676\n",
      "Episode 193\tAverage Score: 37.17310416911636\tScore 37.26699916701764\n",
      "Episode 194\tAverage Score: 37.167589169239626\tScore 36.99599917307496\n",
      "Episode 195\tAverage Score: 37.15128916960396\tScore 33.15999925881624\n",
      "Episode 196\tAverage Score: 37.166584169262094\tScore 35.89149919776246\n",
      "Episode 197\tAverage Score: 37.20188916847296\tScore 38.239999145269394\n",
      "Episode 198\tAverage Score: 37.20323916844279\tScore 37.3469991652295\n",
      "Episode 199\tAverage Score: 37.176144169048406\tScore 35.74499920103699\n",
      "Episode 200\tAverage Score: 37.14545916973427\tScore 34.8084992219694\n",
      "Episode 201\tAverage Score: 37.173824169100264\tScore 37.78449915545061\n",
      "Episode 202\tAverage Score: 37.15285416956898\tScore 34.80749922199175\n",
      "Episode 203\tAverage Score: 37.17628916904516\tScore 37.68099915776402\n",
      "Episode 204\tAverage Score: 37.170634169171564\tScore 34.6344992258586\n",
      "Episode 205\tAverage Score: 37.16041916939989\tScore 35.5214992060326\n",
      "Episode 206\tAverage Score: 37.15805916945264\tScore 37.047499171923846\n",
      "Episode 207\tAverage Score: 37.10298417068367\tScore 32.880499265063555\n",
      "Episode 208\tAverage Score: 37.07607917128504\tScore 35.785499200131746\n",
      "Episode 209\tAverage Score: 37.04383417200577\tScore 34.5784992271103\n",
      "Episode 210\tAverage Score: 37.03559417218994\tScore 37.26899916697293\n",
      "Episode 211\tAverage Score: 37.02852417234797\tScore 37.75149915618822\n",
      "Episode 212\tAverage Score: 37.01025917275623\tScore 36.66349918050692\n",
      "Episode 213\tAverage Score: 36.9994691729974\tScore 37.04299917202443\n",
      "Episode 214\tAverage Score: 37.02024417253304\tScore 37.67299915794283\n",
      "Episode 215\tAverage Score: 37.02029417253192\tScore 36.92199917472899\n",
      "Episode 216\tAverage Score: 36.99207917316258\tScore 34.936999219097196\n",
      "Episode 217\tAverage Score: 36.92106417474989\tScore 30.93649930851534\n",
      "Episode 218\tAverage Score: 36.89056417543162\tScore 33.80049924449995\n",
      "Episode 219\tAverage Score: 36.88080417564977\tScore 35.40649920860305\n",
      "Episode 220\tAverage Score: 36.88061417565402\tScore 36.93549917442724\n",
      "Episode 221\tAverage Score: 36.88315917559713\tScore 37.661499158199874\n",
      "Episode 222\tAverage Score: 36.87900417569001\tScore 36.747999178618194\n",
      "Episode 223\tAverage Score: 36.91252417494077\tScore 38.11149914814159\n",
      "Episode 224\tAverage Score: 36.908714175025935\tScore 36.770999178104105\n",
      "Episode 225\tAverage Score: 36.92446917467378\tScore 38.44899914059788\n",
      "Episode 226\tAverage Score: 36.92288417470921\tScore 36.246999189816414\n",
      "Episode 227\tAverage Score: 36.87611917575449\tScore 32.859999265521765\n",
      "Episode 228\tAverage Score: 36.83646917664075\tScore 34.25149923441931\n",
      "Episode 229\tAverage Score: 36.810394177223564\tScore 35.41449920842424\n",
      "Episode 230\tAverage Score: 36.77181417808589\tScore 32.916999264247714\n",
      "Episode 231\tAverage Score: 36.77410917803459\tScore 35.95949919624254\n",
      "Episode 232\tAverage Score: 36.78705417774525\tScore 37.770999155752364\n",
      "Episode 233\tAverage Score: 36.79019417767506\tScore 37.668999158032236\n",
      "Episode 234\tAverage Score: 36.79090417765919\tScore 37.3034991662018\n",
      "Episode 235\tAverage Score: 36.77089417810645\tScore 35.42949920808896\n",
      "Episode 236\tAverage Score: 36.75925917836651\tScore 35.91149919731542\n",
      "Episode 237\tAverage Score: 36.743264178724026\tScore 36.0559991940856\n",
      "Episode 238\tAverage Score: 36.76135917831957\tScore 38.66949913566932\n"
     ]
    },
    {
     "name": "stdout",
     "output_type": "stream",
     "text": [
      "Episode 239\tAverage Score: 36.774374178028665\tScore 38.2339991454035\n",
      "Episode 240\tAverage Score: 36.74573917866871\tScore 36.096999193169175\n",
      "Episode 241\tAverage Score: 36.74742917863094\tScore 37.33999916538596\n",
      "Episode 242\tAverage Score: 36.755499178450556\tScore 38.04249914968386\n",
      "Episode 243\tAverage Score: 36.743419178720565\tScore 37.03399917222559\n",
      "Episode 244\tAverage Score: 36.74375917871296\tScore 36.191499191056934\n",
      "Episode 245\tAverage Score: 36.72601917910949\tScore 36.10349919302389\n",
      "Episode 246\tAverage Score: 36.697209179753436\tScore 34.74099922347814\n",
      "Episode 247\tAverage Score: 36.66159918054938\tScore 34.51599922850728\n",
      "Episode 248\tAverage Score: 36.645559180907895\tScore 36.03699919451028\n",
      "Episode 249\tAverage Score: 36.65560418068338\tScore 37.6764991578646\n",
      "Episode 250\tAverage Score: 36.67053418034968\tScore 38.81599913239479\n",
      "We have achieved 37.42381916351244 mean score (30+ is good result)\n"
     ]
    }
   ],
   "source": [
    "# Here you can train your agent, don't forget to change path for savig of agent nn weights \n",
    "meta = ac_training(agent, env, '../experiments/your_path/', n_episodes=250)"
   ]
  },
  {
   "cell_type": "code",
   "execution_count": 14,
   "metadata": {},
   "outputs": [],
   "source": [
    "env.close()"
   ]
  },
  {
   "cell_type": "code",
   "execution_count": 15,
   "metadata": {},
   "outputs": [],
   "source": [
    "# Resuts are saved with all meta informations\n",
    "import pickle\n",
    "meta = pickle.load(open('../experiments/basic/meta.pickle', 'rb'))"
   ]
  },
  {
   "cell_type": "code",
   "execution_count": 6,
   "metadata": {},
   "outputs": [
    {
     "data": {
      "text/plain": [
       "['scores', 'meta_path', 'model_path', 'agent']"
      ]
     },
     "execution_count": 6,
     "metadata": {},
     "output_type": "execute_result"
    }
   ],
   "source": [
    "list(meta.keys())"
   ]
  },
  {
   "cell_type": "code",
   "execution_count": 17,
   "metadata": {},
   "outputs": [
    {
     "name": "stdout",
     "output_type": "stream",
     "text": [
      "[34.740999223478141, 34.515999228507283, 36.03699919451028, 37.676499157864598, 38.815999132394793]\n"
     ]
    }
   ],
   "source": [
    "# Progress of scoress during training\n",
    "print(meta['scores'][-5:])"
   ]
  },
  {
   "cell_type": "code",
   "execution_count": 18,
   "metadata": {},
   "outputs": [
    {
     "name": "stdout",
     "output_type": "stream",
     "text": [
      "../experiments/basic/meta.pickle\n"
     ]
    }
   ],
   "source": [
    "# Direction of exp meta data\n",
    "print(meta['meta_path'])"
   ]
  },
  {
   "cell_type": "code",
   "execution_count": 19,
   "metadata": {},
   "outputs": [
    {
     "name": "stdout",
     "output_type": "stream",
     "text": [
      "../experiments/basic/model\n"
     ]
    }
   ],
   "source": [
    "# Direction of exp best model data in pytorch format, separated from pickle\n",
    "print(meta['model_path'])"
   ]
  },
  {
   "cell_type": "code",
   "execution_count": 20,
   "metadata": {},
   "outputs": [
    {
     "name": "stdout",
     "output_type": "stream",
     "text": [
      "Agent(state_size=33, action_size=4, num_agents=20, device=\"cuda\")\n"
     ]
    }
   ],
   "source": [
    "# Agent setup\n",
    "print(meta['agent'])"
   ]
  }
 ],
 "metadata": {
  "kernelspec": {
   "display_name": "Python 3",
   "language": "python",
   "name": "python3"
  },
  "language_info": {
   "codemirror_mode": {
    "name": "ipython",
    "version": 3
   },
   "file_extension": ".py",
   "mimetype": "text/x-python",
   "name": "python",
   "nbconvert_exporter": "python",
   "pygments_lexer": "ipython3",
   "version": "3.6.3"
  }
 },
 "nbformat": 4,
 "nbformat_minor": 2
}
