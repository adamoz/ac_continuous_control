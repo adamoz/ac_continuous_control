{
 "cells": [
  {
   "cell_type": "markdown",
   "metadata": {},
   "source": [
    "# Report\n",
    "---\n",
    "\n",
    "This report contains description of basic experimental setup with conclusions and proposals for next steps. All experiments included into the repo passed success criteria. \n",
    "Main sections: \n",
    "   \n",
    " **1) Experiment overiew** - Description of method used to train agent.  \n",
    " **2) Experiment metadata** - Introduction to experiments metadata and its basic usage.    \n",
    " **3) Evaluation of model** - Showcase of model usage   \n",
    " **4) Evaluation of results** - Some detailed plots and measurements.   \n",
    " **5) Next steps**  "
   ]
  },
  {
   "cell_type": "code",
   "execution_count": 1,
   "metadata": {},
   "outputs": [],
   "source": [
    "%load_ext autoreload\n",
    "%autoreload 2\n",
    "%matplotlib inline"
   ]
  },
  {
   "cell_type": "code",
   "execution_count": 2,
   "metadata": {},
   "outputs": [],
   "source": [
    "import matplotlib.pylab as plt\n",
    "import seaborn as sns\n",
    "import pandas as pd\n",
    "import logging\n",
    "import numpy as np\n",
    "import pickle\n",
    "import time\n",
    "logging.basicConfig(level=logging.INFO)\n",
    "logger = logging.getLogger()\n",
    "logger.setLevel(logging.DEBUG)"
   ]
  },
  {
   "cell_type": "code",
   "execution_count": 3,
   "metadata": {},
   "outputs": [],
   "source": [
    "import torch\n",
    "from ac_continuous_control.environment import UnityEnvironmentWrapper\n",
    "from ac_continuous_control.replay_buffer import ReplayBuffer\n",
    "from ac_continuous_control.agent import Agent\n",
    "from ac_continuous_control.training import ac_training"
   ]
  },
  {
   "cell_type": "code",
   "execution_count": 4,
   "metadata": {},
   "outputs": [],
   "source": [
    "def get_avg_scores(scores, n_samples):\n",
    "    cs = np.cumsum(scores)\n",
    "    diff = cs[n_samples:] - cs[:-n_samples]\n",
    "    avg = diff / n_samples\n",
    "    return avg\n",
    "    \n",
    "def get_best_avg_score(scores, n_samples):\n",
    "    avg = get_avg_scores(scores, n_samples)\n",
    "    idxs = np.argsort(avg)[::-1][:3]\n",
    "    avg_subset = avg[idxs]\n",
    "    \n",
    "    return idxs + n_samples, avg_subset\n",
    "\n",
    "def get_occurance(scores, n_samples, value):\n",
    "    avg = get_avg_scores(scores, n_samples)\n",
    "    return np.where(avg >= value)[0][0] + n_samples\n"
   ]
  },
  {
   "cell_type": "markdown",
   "metadata": {},
   "source": [
    "## Experiment overview"
   ]
  },
  {
   "cell_type": "markdown",
   "metadata": {},
   "source": [
    "**Intro**   \n",
    "To solve Reacher environment, we have applied **ddpg algorithm** [[1]](https://arxiv.org/pdf/1509.02971.pdf). This algorithm use actor critic architecture, where actor predicts best possible action for current state and critict evaluate this decision. Because of stability, we used regular and target version of both actor and critic model with soft updates.\n",
    "\n",
    "To address exploration-exploitation problem, we generate random noise with Ornstein-Uhlenbeck process which we mix together with actions from actor (original idea was used in Udacity [ddpg bidepadl environmnet task](https://github.com/udacity/deep-reinforcement-learning/tree/master/ddpg-bipedal))\n",
    "\n",
    "**Agent**   \n",
    "Both actor and critic are feed forward neural networks. Actor has 3 layers with relu activations, output has action space size. Critic has also 3 layers of feedforward network, input to 1st layer is state vector, action vector is concatenated to 2nd layer result.\n",
    "  \n",
    "  Params\n",
    "    * state_size (33): dimension of each state\n",
    "    * action_size (4): dimension of each action\n",
    "    * buffer_size (1e5): Replay buffer size\n",
    "    * batch_size (128): Size of sampled batches from replay buffer\n",
    "    * lr_actor (1e-4): Learning rate\n",
    "    * lr_critic (1e-4): Learning rate\n",
    "    * gamma (0.99): Reward discount\n",
    "    * tau (1e-3): Soft update of target network parameters\n",
    "\n",
    "**Training**  \n",
    "For training purposes we have used multi-agent environment with shared weights across agents. These were periodically updated. Trained result can be applied to varinous number of robotic arms.."
   ]
  },
  {
   "cell_type": "markdown",
   "metadata": {},
   "source": [
    "## Experiment metadata"
   ]
  },
  {
   "cell_type": "markdown",
   "metadata": {},
   "source": [
    "Experiment in repo has it's own metadata file with details of experiemnt and of course separate pytorch weights of trained agent (separatelly for actor and critic). Lets have a look at ```../experiments/basic``` which contains results for basic ddpg setup"
   ]
  },
  {
   "cell_type": "code",
   "execution_count": 5,
   "metadata": {},
   "outputs": [],
   "source": [
    "meta = pickle.load(open('../experiments/basic/meta.pickle', 'rb'))"
   ]
  },
  {
   "cell_type": "code",
   "execution_count": 6,
   "metadata": {},
   "outputs": [
    {
     "data": {
      "text/plain": [
       "'Agent(state_size=33, action_size=4, num_agents=20, device=\"cuda\")'"
      ]
     },
     "execution_count": 6,
     "metadata": {},
     "output_type": "execute_result"
    }
   ],
   "source": [
    "# repr string for agent initialization\n",
    "meta['agent']"
   ]
  },
  {
   "cell_type": "code",
   "execution_count": 7,
   "metadata": {},
   "outputs": [
    {
     "data": {
      "text/plain": [
       "[34.947999218851329,\n",
       " 36.904499175120144,\n",
       " 35.337499210145324,\n",
       " 35.199999213218689,\n",
       " 36.542999183200301,\n",
       " 37.283499166648838,\n",
       " 38.387999141961338,\n",
       " 38.475999139994386,\n",
       " 37.802999155037107,\n",
       " 38.092999148555101]"
      ]
     },
     "execution_count": 7,
     "metadata": {},
     "output_type": "execute_result"
    }
   ],
   "source": [
    "# result scores during training\n",
    "meta['scores'][100:110]"
   ]
  },
  {
   "cell_type": "markdown",
   "metadata": {},
   "source": [
    "## Evaluation of model"
   ]
  },
  {
   "cell_type": "code",
   "execution_count": 8,
   "metadata": {},
   "outputs": [
    {
     "name": "stderr",
     "output_type": "stream",
     "text": [
      "DEBUG:unityagents:The true file name is Reacher\n",
      "DEBUG:unityagents:This is the launch string /home/adam/code/ac_continuous_control/notebooks/../bin/reacher_multi/Reacher.x86_64\n",
      "INFO:unityagents:\n",
      "'Academy' started successfully!\n",
      "Unity Academy name: Academy\n",
      "        Number of Brains: 1\n",
      "        Number of External Brains : 1\n",
      "        Lesson number : 0\n",
      "        Reset Parameters :\n",
      "\t\tgoal_speed -> 1.0\n",
      "\t\tgoal_size -> 5.0\n",
      "Unity brain name: ReacherBrain\n",
      "        Number of Visual Observations (per agent): 0\n",
      "        Vector Observation space type: continuous\n",
      "        Vector Observation space size (per agent): 33\n",
      "        Number of stacked Vector Observation: 1\n",
      "        Vector Action space type: continuous\n",
      "        Vector Action space size (per agent): 4\n",
      "        Vector Action descriptions: , , , \n"
     ]
    }
   ],
   "source": [
    "#env = UnityEnvironmentWrapper(env_binary='../bin/reacher_single/Reacher.x86_64', train_mode=False)\n",
    "env = UnityEnvironmentWrapper(env_binary='../bin/reacher_multi/Reacher.x86_64', train_mode=False)"
   ]
  },
  {
   "cell_type": "code",
   "execution_count": 9,
   "metadata": {},
   "outputs": [],
   "source": [
    "agent = Agent(state_size=env.state_size, action_size=env.action_size, num_agents=env.num_agents, device='cuda')"
   ]
  },
  {
   "cell_type": "code",
   "execution_count": 10,
   "metadata": {},
   "outputs": [],
   "source": [
    "agent.load('../experiments/basic/model')"
   ]
  },
  {
   "cell_type": "code",
   "execution_count": 12,
   "metadata": {},
   "outputs": [
    {
     "name": "stdout",
     "output_type": "stream",
     "text": [
      "Score update: 1.0219999771565198\n",
      "Score update: 2.0224999547936022\n",
      "Score update: 3.0339999321848152\n",
      "Score update: 4.056499909330159\n",
      "Score update: 5.096499886084348\n",
      "Score update: 6.105999863520265\n",
      "Score update: 7.137999840453267\n",
      "Score update: 8.148499817866831\n",
      "Score update: 9.166999795101583\n",
      "Score update: 10.193999772146345\n",
      "Score update: 11.216999749280513\n",
      "Score update: 12.256999726034701\n",
      "Score update: 13.29699970278889\n",
      "Score update: 14.311999680101872\n",
      "Score update: 15.338999657146633\n",
      "Score update: 16.342999634705485\n",
      "Score update: 17.35599961206317\n",
      "Score update: 18.389499588962643\n",
      "Score update: 19.393499566521495\n",
      "Score update: 20.411499543767423\n",
      "Score update: 21.45149952052161\n",
      "Score update: 22.4914994972758\n",
      "Score update: 23.53049947405234\n",
      "Score update: 24.57049945080653\n",
      "Score update: 25.61049942756072\n",
      "Score update: 26.650499404314907\n",
      "Score update: 27.65849938178435\n",
      "Score update: 28.691999358683823\n",
      "Score update: 29.73149933544919\n",
      "Score update: 30.771499312203378\n",
      "Score update: 31.811499288957567\n",
      "Score update: 32.818499266449365\n",
      "Score update: 33.81949924407527\n",
      "Score update: 34.856999220885335\n",
      "Score update: 35.877499198075384\n",
      "Score update: 36.909499175008385\n",
      "Score update: 37.94949915176257\n"
     ]
    }
   ],
   "source": [
    "# Evauation of chosen model with reward evolution\n",
    "states = env.reset()\n",
    "agent.reset()\n",
    "score = np.zeros([env.num_agents])\n",
    "old_mean_score = 0\n",
    "current_mean_score = 0\n",
    "for step in range(1000):\n",
    "    actions = agent.act(states)\n",
    "    next_states, rewards, dones = env.step(actions)\n",
    "    agent.step(states, actions, rewards, next_states, dones)\n",
    "    states = next_states\n",
    "    score += rewards\n",
    "    if np.any(np.array(rewards)>0):\n",
    "        current_mean_score = np.mean(score, axis=0)\n",
    "        if current_mean_score > old_mean_score + 1:\n",
    "            old_mean_score = current_mean_score\n",
    "            print(f'Score update: {current_mean_score}')\n",
    "    time.sleep(0.05)\n",
    "    if np.any(dones):\n",
    "        break"
   ]
  },
  {
   "cell_type": "code",
   "execution_count": 9,
   "metadata": {},
   "outputs": [],
   "source": [
    "env.close()"
   ]
  },
  {
   "cell_type": "markdown",
   "metadata": {},
   "source": [
    "## Evaluation of results\n",
    "We have run basic mutiagent ddpg setup. Plots you will see represetns progress over binned scores during training. Each line represetns gourp of scores in given bin with its variance."
   ]
  },
  {
   "cell_type": "code",
   "execution_count": 13,
   "metadata": {},
   "outputs": [],
   "source": [
    "meta_basic = pickle.load(open('../experiments/basic/meta.pickle', 'rb'))\n",
    "data_basic = pd.DataFrame({'scores': meta_basic['scores'], 'iterations': range(len(meta_basic['scores']))})"
   ]
  },
  {
   "cell_type": "code",
   "execution_count": 16,
   "metadata": {},
   "outputs": [
    {
     "data": {
      "text/plain": [
       "<matplotlib.legend.Legend at 0x7f38fcadca90>"
      ]
     },
     "execution_count": 16,
     "metadata": {},
     "output_type": "execute_result"
    },
    {
     "data": {
      "image/png": "[encoded data removed]",
      "text/plain": [
       "<matplotlib.figure.Figure at 0x7f38fca70438>"
      ]
     },
     "metadata": {},
     "output_type": "display_data"
    }
   ],
   "source": [
    "plt.figure(figsize=(15, 15))\n",
    "ax = plt.gca()\n",
    "sns.regplot(x='iterations', y='scores', data=data_basic, ax=ax, order=2, x_bins=10, line_kws={'alpha':0.1}, scatter_kws={'alpha':0.1}, color='orange', label='basic network')\n",
    "plt.xlim(0, 250)\n",
    "plt.legend()"
   ]
  },
  {
   "cell_type": "code",
   "execution_count": 17,
   "metadata": {},
   "outputs": [
    {
     "name": "stdout",
     "output_type": "stream",
     "text": [
      "Percentile scores\n",
      "[  2.13424995  35.5991242   36.98624917  38.04137415  38.97947413]\n"
     ]
    }
   ],
   "source": [
    "print(f'Percentile scores')\n",
    "print(np.percentile(meta_basic['scores'], [5, 25, 50, 75, 95]))\n"
   ]
  },
  {
   "cell_type": "code",
   "execution_count": 18,
   "metadata": {},
   "outputs": [
    {
     "name": "stdout",
     "output_type": "stream",
     "text": [
      "Mean score after 250 runs: 33.56804324969575\n"
     ]
    }
   ],
   "source": [
    "print(f'Mean score after 250 runs: {np.mean((meta_basic[\"scores\"]))}')"
   ]
  },
  {
   "cell_type": "code",
   "execution_count": 19,
   "metadata": {},
   "outputs": [
    {
     "data": {
      "text/plain": [
       "(array([61, 62, 60]), array([ 38.80599913,  38.76539913,  38.75269913]))"
      ]
     },
     "execution_count": 19,
     "metadata": {},
     "output_type": "execute_result"
    }
   ],
   "source": [
    "# gives iteration with top scores for given experiment and avg scores (here counted for 30 consecutive samples)\n",
    "get_best_avg_score(meta_basic['scores'], 30)"
   ]
  },
  {
   "cell_type": "code",
   "execution_count": 20,
   "metadata": {},
   "outputs": [
    {
     "data": {
      "text/plain": [
       "103"
      ]
     },
     "execution_count": 20,
     "metadata": {},
     "output_type": "execute_result"
    }
   ],
   "source": [
    "# iteration when we for the first time reached avg score for 100 consecutive scores >=30\n",
    "get_occurance(meta_basic['scores'], n_samples=100, value=30)"
   ]
  },
  {
   "cell_type": "code",
   "execution_count": 21,
   "metadata": {},
   "outputs": [
    {
     "data": {
      "text/plain": [
       "Text(0.5,0.98,'Plot of raw scores got from each single iteration')"
      ]
     },
     "execution_count": 21,
     "metadata": {},
     "output_type": "execute_result"
    },
    {
     "data": {
      "image/png": "[encoded data removed]",
      "text/plain": [
       "<matplotlib.figure.Figure at 0x7f38fcad8d68>"
      ]
     },
     "metadata": {},
     "output_type": "display_data"
    }
   ],
   "source": [
    "plt.figure(figsize=(10,10))\n",
    "ax = plt.gca()\n",
    "sns.scatterplot(x='iterations', y='scores', data=data_basic, ax=ax)\n",
    "plt.suptitle('Plot of raw scores got from each single iteration')"
   ]
  },
  {
   "cell_type": "markdown",
   "metadata": {},
   "source": [
    "We can see that we reached avg score 30 over 100 consecutive measurements on 103. iteration In scatterplot, there is massive boost in scores after ~25 itereations, then it stays pretty stable."
   ]
  },
  {
   "cell_type": "markdown",
   "metadata": {},
   "source": [
    "## Next steps"
   ]
  },
  {
   "cell_type": "markdown",
   "metadata": {},
   "source": [
    " - experiment with architectures of actor and critic\n",
    " - tune up all hyperparameters\n",
    " - save models with final result of Ornstein-Uhlenbeck process"
   ]
  }
 ],
 "metadata": {
  "kernelspec": {
   "display_name": "Python 3",
   "language": "python",
   "name": "python3"
  },
  "language_info": {
   "codemirror_mode": {
    "name": "ipython",
    "version": 3
   },
   "file_extension": ".py",
   "mimetype": "text/x-python",
   "name": "python",
   "nbconvert_exporter": "python",
   "pygments_lexer": "ipython3",
   "version": "3.6.3"
  }
 },
 "nbformat": 4,
 "nbformat_minor": 2
}
